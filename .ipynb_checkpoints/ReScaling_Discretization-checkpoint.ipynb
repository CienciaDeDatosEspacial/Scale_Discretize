{
 "cells": [
  {
   "cell_type": "markdown",
   "metadata": {},
   "source": [
    "<center><img src=\"https://i.imgur.com/zRrFdsf.png\" width=\"700\"></center>\n",
    "\n",
    "_____\n",
    "\n",
    "# Rescaling and Discretization\n",
    "\n",
    "Data comes in different units:"
   ]
  },
  {
   "cell_type": "code",
   "execution_count": 1,
   "metadata": {
    "id": "hShXjBPb5Z66"
   },
   "outputs": [],
   "source": [
    "ciaLink=\"https://github.com/CienciaDeDatosEspacial/Scale_Discretize/raw/refs/heads/main/ciaAll.csv\""
   ]
  },
  {
   "cell_type": "code",
   "execution_count": 2,
   "metadata": {
    "colab": {
     "base_uri": "https://localhost:8080/"
    },
    "id": "LG0Pdlz15r_l",
    "outputId": "c9667f24-fb07-4650-a5dd-067a86fa3755"
   },
   "outputs": [
    {
     "name": "stdout",
     "output_type": "stream",
     "text": [
      "<class 'pandas.core.frame.DataFrame'>\n",
      "RangeIndex: 133 entries, 0 to 132\n",
      "Data columns (total 10 columns):\n",
      " #   Column                   Non-Null Count  Dtype  \n",
      "---  ------                   --------------  -----  \n",
      " 0   Country                  133 non-null    object \n",
      " 1   region                   133 non-null    object \n",
      " 2   InternetccTLD            133 non-null    object \n",
      " 3   iso2                     132 non-null    object \n",
      " 4   iso3                     133 non-null    object \n",
      " 5   fragility                133 non-null    float64\n",
      " 6   co2                      133 non-null    float64\n",
      " 7   ForestRev_gdp            133 non-null    float64\n",
      " 8   inequality               133 non-null    float64\n",
      " 9   litersAlcohol_percapita  133 non-null    float64\n",
      "dtypes: float64(5), object(5)\n",
      "memory usage: 10.5+ KB\n"
     ]
    }
   ],
   "source": [
    "import pandas as pd\n",
    "\n",
    "cia=pd.read_csv(ciaLink)\n",
    "cia.info()"
   ]
  },
  {
   "cell_type": "markdown",
   "metadata": {},
   "source": [
    "Here, you see the different ranges (min-max):"
   ]
  },
  {
   "cell_type": "code",
   "execution_count": 3,
   "metadata": {
    "colab": {
     "base_uri": "https://localhost:8080/",
     "height": 300
    },
    "id": "AM0TX1nSogSn",
    "outputId": "3b5b2dff-f45f-4c2a-bf27-8de74c00aafb"
   },
   "outputs": [
    {
     "data": {
      "text/html": [
       "<div>\n",
       "<style scoped>\n",
       "    .dataframe tbody tr th:only-of-type {\n",
       "        vertical-align: middle;\n",
       "    }\n",
       "\n",
       "    .dataframe tbody tr th {\n",
       "        vertical-align: top;\n",
       "    }\n",
       "\n",
       "    .dataframe thead th {\n",
       "        text-align: right;\n",
       "    }\n",
       "</style>\n",
       "<table border=\"1\" class=\"dataframe\">\n",
       "  <thead>\n",
       "    <tr style=\"text-align: right;\">\n",
       "      <th></th>\n",
       "      <th>fragility</th>\n",
       "      <th>co2</th>\n",
       "      <th>ForestRev_gdp</th>\n",
       "      <th>inequality</th>\n",
       "      <th>litersAlcohol_percapita</th>\n",
       "    </tr>\n",
       "  </thead>\n",
       "  <tbody>\n",
       "    <tr>\n",
       "      <th>count</th>\n",
       "      <td>133.000000</td>\n",
       "      <td>1.330000e+02</td>\n",
       "      <td>133.000000</td>\n",
       "      <td>133.000000</td>\n",
       "      <td>133.000000</td>\n",
       "    </tr>\n",
       "    <tr>\n",
       "      <th>mean</th>\n",
       "      <td>65.237594</td>\n",
       "      <td>2.370294e+08</td>\n",
       "      <td>1.374812</td>\n",
       "      <td>36.786466</td>\n",
       "      <td>5.120075</td>\n",
       "    </tr>\n",
       "    <tr>\n",
       "      <th>std</th>\n",
       "      <td>24.569307</td>\n",
       "      <td>1.058920e+09</td>\n",
       "      <td>2.362138</td>\n",
       "      <td>7.185220</td>\n",
       "      <td>3.590233</td>\n",
       "    </tr>\n",
       "    <tr>\n",
       "      <th>min</th>\n",
       "      <td>16.900000</td>\n",
       "      <td>1.730000e+05</td>\n",
       "      <td>0.000000</td>\n",
       "      <td>24.300000</td>\n",
       "      <td>0.000000</td>\n",
       "    </tr>\n",
       "    <tr>\n",
       "      <th>25%</th>\n",
       "      <td>46.000000</td>\n",
       "      <td>4.851000e+06</td>\n",
       "      <td>0.080000</td>\n",
       "      <td>31.700000</td>\n",
       "      <td>2.030000</td>\n",
       "    </tr>\n",
       "    <tr>\n",
       "      <th>50%</th>\n",
       "      <td>70.100000</td>\n",
       "      <td>1.675200e+07</td>\n",
       "      <td>0.280000</td>\n",
       "      <td>35.300000</td>\n",
       "      <td>4.400000</td>\n",
       "    </tr>\n",
       "    <tr>\n",
       "      <th>75%</th>\n",
       "      <td>83.900000</td>\n",
       "      <td>9.618000e+07</td>\n",
       "      <td>1.560000</td>\n",
       "      <td>40.700000</td>\n",
       "      <td>7.810000</td>\n",
       "    </tr>\n",
       "    <tr>\n",
       "      <th>max</th>\n",
       "      <td>113.500000</td>\n",
       "      <td>1.077325e+10</td>\n",
       "      <td>13.270000</td>\n",
       "      <td>59.100000</td>\n",
       "      <td>12.900000</td>\n",
       "    </tr>\n",
       "  </tbody>\n",
       "</table>\n",
       "</div>"
      ],
      "text/plain": [
       "        fragility           co2  ForestRev_gdp  inequality  \\\n",
       "count  133.000000  1.330000e+02     133.000000  133.000000   \n",
       "mean    65.237594  2.370294e+08       1.374812   36.786466   \n",
       "std     24.569307  1.058920e+09       2.362138    7.185220   \n",
       "min     16.900000  1.730000e+05       0.000000   24.300000   \n",
       "25%     46.000000  4.851000e+06       0.080000   31.700000   \n",
       "50%     70.100000  1.675200e+07       0.280000   35.300000   \n",
       "75%     83.900000  9.618000e+07       1.560000   40.700000   \n",
       "max    113.500000  1.077325e+10      13.270000   59.100000   \n",
       "\n",
       "       litersAlcohol_percapita  \n",
       "count               133.000000  \n",
       "mean                  5.120075  \n",
       "std                   3.590233  \n",
       "min                   0.000000  \n",
       "25%                   2.030000  \n",
       "50%                   4.400000  \n",
       "75%                   7.810000  \n",
       "max                  12.900000  "
      ]
     },
     "execution_count": 3,
     "metadata": {},
     "output_type": "execute_result"
    }
   ],
   "source": [
    "cia.describe()"
   ]
  },
  {
   "cell_type": "markdown",
   "metadata": {},
   "source": [
    "Let me use some columns (the numerical ones):"
   ]
  },
  {
   "cell_type": "code",
   "execution_count": 4,
   "metadata": {
    "colab": {
     "base_uri": "https://localhost:8080/"
    },
    "id": "15AlEyf_omxS",
    "outputId": "11fd6365-2fa5-4a26-d377-4cf573613f15"
   },
   "outputs": [
    {
     "data": {
      "text/plain": [
       "Index(['Country', 'region', 'InternetccTLD', 'iso2', 'iso3', 'fragility',\n",
       "       'co2', 'ForestRev_gdp', 'inequality', 'litersAlcohol_percapita'],\n",
       "      dtype='object')"
      ]
     },
     "execution_count": 4,
     "metadata": {},
     "output_type": "execute_result"
    }
   ],
   "source": [
    "cia.columns"
   ]
  },
  {
   "cell_type": "markdown",
   "metadata": {},
   "source": [
    "This is the selection:"
   ]
  },
  {
   "cell_type": "code",
   "execution_count": 5,
   "metadata": {
    "colab": {
     "base_uri": "https://localhost:8080/",
     "height": 466
    },
    "id": "_QZ0RRmr6bWU",
    "outputId": "ea1e6ecb-b9cc-4810-9a63-1df5776d05c5"
   },
   "outputs": [
    {
     "data": {
      "text/plain": [
       "<Axes: >"
      ]
     },
     "execution_count": 5,
     "metadata": {},
     "output_type": "execute_result"
    },
    {
     "data": {
      "image/png": "[encoded data removed]",
      "text/plain": [
       "<Figure size 640x480 with 1 Axes>"
      ]
     },
     "metadata": {},
     "output_type": "display_data"
    }
   ],
   "source": [
    "vars=['fragility','co2', 'ForestRev_gdp', 'inequality', 'litersAlcohol_percapita']\n",
    "cia.loc[:,vars].boxplot(vert=False)"
   ]
  },
  {
   "cell_type": "markdown",
   "metadata": {},
   "source": [
    "## Re Scaling\n",
    "\n",
    "The distributions are so dissimilar, that we need to modify (re escale) the values. Let's see three options:"
   ]
  },
  {
   "cell_type": "code",
   "execution_count": 6,
   "metadata": {
    "colab": {
     "base_uri": "https://localhost:8080/",
     "height": 448
    },
    "id": "XrNSyKVF7H3Z",
    "outputId": "ac2bd675-8fad-49ca-e976-5ce87f288981"
   },
   "outputs": [
    {
     "data": {
      "text/plain": [
       "<Axes: >"
      ]
     },
     "execution_count": 6,
     "metadata": {},
     "output_type": "execute_result"
    }
   ],
   "source": [
    "from sklearn.preprocessing import StandardScaler\n",
    "\n",
    "scaler = StandardScaler()\n",
    "normalized_data = scaler.fit_transform(cia.loc[:,vars])\n",
    "pd.DataFrame(normalized_data,columns=vars).boxplot(vert=False)"
   ]
  },
  {
   "cell_type": "code",
   "execution_count": 7,
   "metadata": {
    "colab": {
     "base_uri": "https://localhost:8080/",
     "height": 448
    },
    "id": "8WmyPlh88cQt",
    "outputId": "45f34d9c-6dd4-4e19-d8cd-f7dd0645804e"
   },
   "outputs": [
    {
     "data": {
      "text/plain": [
       "<Axes: >"
      ]
     },
     "execution_count": 7,
     "metadata": {},
     "output_type": "execute_result"
    }
   ],
   "source": [
    "from sklearn.preprocessing import MinMaxScaler\n",
    "\n",
    "scaler = MinMaxScaler(feature_range=(0, 1))\n",
    "scaled_data=scaler.fit_transform(cia.loc[:,vars])\n",
    "\n",
    "pd.DataFrame(scaled_data,columns=vars).boxplot(vert=False)\n"
   ]
  },
  {
   "cell_type": "code",
   "execution_count": 8,
   "metadata": {
    "colab": {
     "base_uri": "https://localhost:8080/",
     "height": 448
    },
    "id": "o-YFa3yF8gWM",
    "outputId": "83950866-33f1-4d7c-b7cf-c02fc5e928d3"
   },
   "outputs": [
    {
     "data": {
      "text/plain": [
       "<Axes: >"
      ]
     },
     "execution_count": 8,
     "metadata": {},
     "output_type": "execute_result"
    }
   ],
   "source": [
    "from sklearn.preprocessing import RobustScaler\n",
    "scaler = RobustScaler(unit_variance=True,with_centering=False)\n",
    "robScaled_data = scaler.fit_transform(cia.loc[:,vars])\n",
    "\n",
    "pd.DataFrame(robScaled_data,columns=vars).boxplot(vert=False)\n"
   ]
  },
  {
   "cell_type": "markdown",
   "metadata": {},
   "source": [
    "The last one will be kept, which is the the one recommended when outliers are present."
   ]
  },
  {
   "cell_type": "code",
   "execution_count": 9,
   "metadata": {
    "id": "piz-CWMCBWOg"
   },
   "outputs": [],
   "source": [
    "vars_rob_names=[v+'_rob' for v in vars] # new names\n",
    "cia[vars_rob_names]=robScaled_data"
   ]
  },
  {
   "cell_type": "markdown",
   "metadata": {
    "id": "ghd5uVXqrKUS"
   },
   "source": [
    "## Discretization"
   ]
  },
  {
   "cell_type": "code",
   "execution_count": 10,
   "metadata": {
    "id": "rxRGn0JXsQkd"
   },
   "outputs": [],
   "source": [
    "### we may need this installation\n",
    "# !pip install mapclassify"
   ]
  },
  {
   "cell_type": "markdown",
   "metadata": {},
   "source": [
    "Here, we will try the different discretization schemes:"
   ]
  },
  {
   "cell_type": "code",
   "execution_count": 11,
   "metadata": {
    "id": "_NYg78Xqes1N"
   },
   "outputs": [],
   "source": [
    "import mapclassify\n",
    "import numpy as np\n",
    "np.random.seed(12345)\n",
    "\n",
    "theVar=cia.co2\n",
    "K=5\n",
    "# interval same width\n",
    "ei5 = mapclassify.EqualInterval(theVar, k=K)\n",
    "# not good when skewness present\n",
    "msd = mapclassify.StdMean(theVar)\n",
    "# intervals have same count\n",
    "q5=mapclassify.Quantiles(theVar,k=K)\n",
    "# intervals based en similarity\n",
    "mb5 = mapclassify.MaximumBreaks(theVar, k=K)\n",
    "# intervals based en similarity, good when skewness present\n",
    "ht = mapclassify.HeadTailBreaks(theVar)\n",
    "# intervals based en similarity\n",
    "fj5 = mapclassify.FisherJenks(theVar, k=K)\n",
    "# # intervals based en similarity\n",
    "jc5 = mapclassify.JenksCaspall(theVar, k=K)\n",
    "# # intervals based en similarity\n",
    "mp5 = mapclassify.MaxP(theVar, k=K)\n"
   ]
  },
  {
   "cell_type": "markdown",
   "metadata": {},
   "source": [
    "See one of the results:"
   ]
  },
  {
   "cell_type": "code",
   "execution_count": 12,
   "metadata": {
    "colab": {
     "base_uri": "https://localhost:8080/"
    },
    "id": "4GvwLXMcsufQ",
    "outputId": "16b43e47-7af5-4c38-b739-762fbeb6d5c9"
   },
   "outputs": [
    {
     "data": {
      "text/plain": [
       "StdMean\n",
       "\n",
       "            Interval               Count\n",
       "----------------------------------------\n",
       "(          -inf, -1880811312.51] |     0\n",
       "(-1880811312.51,  -821890964.53] |     0\n",
       "( -821890964.53,  1295949731.44] |   129\n",
       "( 1295949731.44,  2354870079.43] |     2\n",
       "( 2354870079.43, 10773248000.00] |     2"
      ]
     },
     "execution_count": 12,
     "metadata": {},
     "output_type": "execute_result"
    }
   ],
   "source": [
    "msd"
   ]
  },
  {
   "cell_type": "markdown",
   "metadata": {},
   "source": [
    "Another one:"
   ]
  },
  {
   "cell_type": "code",
   "execution_count": 13,
   "metadata": {
    "colab": {
     "base_uri": "https://localhost:8080/"
    },
    "id": "P9u0zvVksxcx",
    "outputId": "076cb89c-0166-4ce5-f9d3-c639a72a36eb"
   },
   "outputs": [
    {
     "data": {
      "text/plain": [
       "HeadTailBreaks\n",
       "\n",
       "            Interval               Count\n",
       "----------------------------------------\n",
       "[     173000.00,   237029383.46] |   109\n",
       "(  237029383.46,  1178669833.33] |    20\n",
       "( 1178669833.33,  5020104250.00] |     2\n",
       "( 5020104250.00,  7958804500.00] |     1\n",
       "( 7958804500.00, 10773248000.00] |     1"
      ]
     },
     "execution_count": 13,
     "metadata": {},
     "output_type": "execute_result"
    }
   ],
   "source": [
    "ht"
   ]
  },
  {
   "cell_type": "markdown",
   "metadata": {},
   "source": [
    "Which one to choose??"
   ]
  },
  {
   "cell_type": "code",
   "execution_count": 14,
   "metadata": {
    "colab": {
     "base_uri": "https://localhost:8080/",
     "height": 585
    },
    "id": "AV6PUqs3s2-Q",
    "outputId": "6ef832bc-bb24-4877-ef73-1cb449fb5ce8"
   },
   "outputs": [],
   "source": [
    "import seaborn\n",
    "class5 = q5, ei5,msd, ht, mb5, fj5, jc5, mp5\n",
    "# Collect ADCM for each classifier\n",
    "fits = np.array([ c.adcm for c in class5])\n",
    "# Convert ADCM scores to a DataFrame\n",
    "adcms = pd.DataFrame(fits)\n",
    "# Add classifier names\n",
    "adcms['classifier'] = [c.name for c in class5]\n",
    "# Add column names to the ADCM\n",
    "adcms.columns = ['ADCM', 'Classifier']\n",
    "adcms.sort_values(by='ADCM', ascending=False).plot(kind='bar', x='Classifier', y='ADCM', legend=False);"
   ]
  },
  {
   "cell_type": "code",
   "execution_count": 15,
   "metadata": {},
   "outputs": [
    {
     "data": {
      "text/html": [
       "<div>\n",
       "<style scoped>\n",
       "    .dataframe tbody tr th:only-of-type {\n",
       "        vertical-align: middle;\n",
       "    }\n",
       "\n",
       "    .dataframe tbody tr th {\n",
       "        vertical-align: top;\n",
       "    }\n",
       "\n",
       "    .dataframe thead th {\n",
       "        text-align: right;\n",
       "    }\n",
       "</style>\n",
       "<table border=\"1\" class=\"dataframe\">\n",
       "  <thead>\n",
       "    <tr style=\"text-align: right;\">\n",
       "      <th></th>\n",
       "      <th>ADCM</th>\n",
       "      <th>Classifier</th>\n",
       "    </tr>\n",
       "  </thead>\n",
       "  <tbody>\n",
       "    <tr>\n",
       "      <th>0</th>\n",
       "      <td>2.257806e+10</td>\n",
       "      <td>Quantiles</td>\n",
       "    </tr>\n",
       "    <tr>\n",
       "      <th>7</th>\n",
       "      <td>2.253071e+10</td>\n",
       "      <td>MaxP</td>\n",
       "    </tr>\n",
       "    <tr>\n",
       "      <th>6</th>\n",
       "      <td>1.976802e+10</td>\n",
       "      <td>JenksCaspall</td>\n",
       "    </tr>\n",
       "    <tr>\n",
       "      <th>2</th>\n",
       "      <td>1.691521e+10</td>\n",
       "      <td>StdMean</td>\n",
       "    </tr>\n",
       "    <tr>\n",
       "      <th>1</th>\n",
       "      <td>1.265417e+10</td>\n",
       "      <td>EqualInterval</td>\n",
       "    </tr>\n",
       "    <tr>\n",
       "      <th>4</th>\n",
       "      <td>1.081965e+10</td>\n",
       "      <td>MaximumBreaks</td>\n",
       "    </tr>\n",
       "    <tr>\n",
       "      <th>3</th>\n",
       "      <td>5.808183e+09</td>\n",
       "      <td>HeadTailBreaks</td>\n",
       "    </tr>\n",
       "    <tr>\n",
       "      <th>5</th>\n",
       "      <td>5.602492e+09</td>\n",
       "      <td>FisherJenks</td>\n",
       "    </tr>\n",
       "  </tbody>\n",
       "</table>\n",
       "</div>"
      ],
      "text/plain": [
       "           ADCM      Classifier\n",
       "0  2.257806e+10       Quantiles\n",
       "7  2.253071e+10            MaxP\n",
       "6  1.976802e+10    JenksCaspall\n",
       "2  1.691521e+10         StdMean\n",
       "1  1.265417e+10   EqualInterval\n",
       "4  1.081965e+10   MaximumBreaks\n",
       "3  5.808183e+09  HeadTailBreaks\n",
       "5  5.602492e+09     FisherJenks"
      ]
     },
     "execution_count": 15,
     "metadata": {},
     "output_type": "execute_result"
    }
   ],
   "source": [
    "adcms.sort_values(by='ADCM', ascending=False)"
   ]
  },
  {
   "cell_type": "markdown",
   "metadata": {},
   "source": [
    "We will keep the one with the smallest ADCM value:"
   ]
  },
  {
   "cell_type": "code",
   "execution_count": 16,
   "metadata": {
    "colab": {
     "base_uri": "https://localhost:8080/"
    },
    "id": "Dum4-puhtGdu",
    "outputId": "340aade1-fd0e-4382-8b4d-aca82aa59006"
   },
   "outputs": [
    {
     "data": {
      "text/plain": [
       "FisherJenks\n",
       "\n",
       "            Interval               Count\n",
       "----------------------------------------\n",
       "[     173000.00,   193869000.00] |   107\n",
       "(  193869000.00,   726881000.00] |    22\n",
       "(  726881000.00,  2314738000.00] |     2\n",
       "( 2314738000.00,  5144361000.00] |     1\n",
       "( 5144361000.00, 10773248000.00] |     1"
      ]
     },
     "execution_count": 16,
     "metadata": {},
     "output_type": "execute_result"
    }
   ],
   "source": [
    "fj5"
   ]
  },
  {
   "cell_type": "code",
   "execution_count": 17,
   "metadata": {
    "colab": {
     "base_uri": "https://localhost:8080/"
    },
    "id": "h_4dNZ7gvK7u",
    "outputId": "1d3ab3dd-6c6b-4aca-b76a-8a64e162cbd5"
   },
   "outputs": [
    {
     "data": {
      "text/plain": [
       "array([0, 0, 0, 0, 1, 0, 0, 0, 0, 0, 0, 0, 0, 1, 0, 0, 0, 0, 0, 1, 0, 0,\n",
       "       0, 4, 0, 0, 0, 0, 0, 0, 0, 0, 0, 0, 0, 1, 0, 0, 0, 0, 0, 0, 1, 0,\n",
       "       0, 0, 1, 0, 0, 0, 0, 0, 0, 0, 0, 0, 2, 1, 1, 0, 0, 1, 0, 1, 0, 1,\n",
       "       0, 0, 0, 0, 0, 0, 0, 0, 0, 1, 0, 0, 0, 0, 0, 1, 0, 0, 0, 0, 0, 1,\n",
       "       0, 0, 0, 0, 0, 0, 0, 0, 0, 1, 0, 0, 2, 0, 0, 0, 0, 0, 0, 1, 0, 1,\n",
       "       0, 0, 0, 0, 0, 0, 0, 1, 0, 0, 0, 1, 0, 0, 1, 1, 3, 0, 0, 1, 0, 0,\n",
       "       0])"
      ]
     },
     "execution_count": 17,
     "metadata": {},
     "output_type": "execute_result"
    }
   ],
   "source": [
    "fj5.yb"
   ]
  },
  {
   "cell_type": "code",
   "execution_count": 18,
   "metadata": {
    "id": "iQp3n_jCvdCa"
   },
   "outputs": [],
   "source": [
    "cia['co2_fj5']=fj5.yb"
   ]
  },
  {
   "cell_type": "code",
   "execution_count": null,
   "metadata": {
    "id": "kGUzR9bPvkQI"
   },
   "outputs": [],
   "source": []
  }
 ],
 "metadata": {
  "colab": {
   "provenance": []
  },
  "kernelspec": {
   "display_name": "Python 3 (ipykernel)",
   "language": "python",
   "name": "python3"
  },
  "language_info": {
   "codemirror_mode": {
    "name": "ipython",
    "version": 3
   },
   "file_extension": ".py",
   "mimetype": "text/x-python",
   "name": "python",
   "nbconvert_exporter": "python",
   "pygments_lexer": "ipython3",
   "version": "3.11.0"
  }
 },
 "nbformat": 4,
 "nbformat_minor": 1
}
